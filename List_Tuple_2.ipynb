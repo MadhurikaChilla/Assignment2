{
 "cells": [
  {
   "cell_type": "code",
   "execution_count": 4,
   "id": "7ffe9328",
   "metadata": {},
   "outputs": [
    {
     "name": "stdout",
     "output_type": "stream",
     "text": [
      "[(2, 1), (1, 2), (2, 3), (4, 4), (2, 5)]\n"
     ]
    }
   ],
   "source": [
    "lst1 =  [(2, 5), (1, 2), (4, 4), (2, 3), (2, 1)]\n",
    "sort_last_element=[]\n",
    "sorted_tuples = []\n",
    "for t in lst1:\n",
    "    sort_last_element.append(t[1],)\n",
    "\n",
    "sort_last_element.sort()\n",
    "for i in sort_last_element:\n",
    "    for j in lst1:\n",
    "        if i == int(j[1],):\n",
    "              sorted_tuples.append(j)\n",
    "print(sorted_tuples)"
   ]
  },
  {
   "cell_type": "code",
   "execution_count": null,
   "id": "d168e87f",
   "metadata": {},
   "outputs": [],
   "source": []
  }
 ],
 "metadata": {
  "kernelspec": {
   "display_name": "Python 3 (ipykernel)",
   "language": "python",
   "name": "python3"
  },
  "language_info": {
   "codemirror_mode": {
    "name": "ipython",
    "version": 3
   },
   "file_extension": ".py",
   "mimetype": "text/x-python",
   "name": "python",
   "nbconvert_exporter": "python",
   "pygments_lexer": "ipython3",
   "version": "3.10.1"
  }
 },
 "nbformat": 4,
 "nbformat_minor": 5
}
